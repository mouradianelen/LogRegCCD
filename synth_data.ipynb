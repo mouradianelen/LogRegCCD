{
 "cells": [
  {
   "cell_type": "code",
   "execution_count": 138,
   "metadata": {
    "ExecuteTime": {
     "end_time": "2025-03-16T18:48:54.741084Z",
     "start_time": "2025-03-16T18:48:48.562056Z"
    }
   },
   "outputs": [],
   "source": [
    "import numpy as np\n",
    "import pandas as pd\n",
    "from scipy.stats import multivariate_normal\n",
    "import matplotlib.pyplot as plt\n",
    "\n",
    "def generate_synth_dataset(p: float, n: int, d: int, g: float)->pd.DataFrame:\n",
    "    \"\"\"Generating a synthetic dataset\n",
    "    Args:\n",
    "        p (float): class prior probability\n",
    "        n (int): number of observations\n",
    "        d (int): number of features (dimensions)\n",
    "        g (float): correlation between features\n",
    "    Returns:\n",
    "        Datadrame: dataset with d features, n rows\n",
    "    \"\"\"\n",
    "    Y = np.random.binomial(1, p, size=n)\n",
    "    S = np.array([[g ** abs(i - j) for j in range(d)] for i in range(d)])\n",
    "    \n",
    "    mean_0 = np.zeros(d)\n",
    "    mean_1 = np.array([1/(i+1) for i in range(d)])\n",
    "    \n",
    "    X = np.array([\n",
    "        multivariate_normal.rvs(mean=mean_1 if y == 1 else mean_0, cov=S)\n",
    "        for y in Y\n",
    "    ])\n",
    "    \n",
    "    feature_names = [f'f{i+1}' for i in range(d)]\n",
    "    dataset = pd.DataFrame(X, columns=feature_names)\n",
    "    dataset['Y'] = Y\n",
    "    \n",
    "    return dataset\n"
   ]
  },
  {
   "cell_type": "code",
   "execution_count": 139,
   "metadata": {
    "ExecuteTime": {
     "end_time": "2025-03-09T22:26:03.201916Z",
     "start_time": "2025-03-09T22:25:53.158434Z"
    }
   },
   "outputs": [],
   "source": [
    "from sklearn.linear_model import LogisticRegression\n",
    "\n",
    "ban = LogisticRegression()"
   ]
  },
  {
   "cell_type": "code",
   "execution_count": 140,
   "metadata": {},
   "outputs": [
    {
     "name": "stdout",
     "output_type": "stream",
     "text": [
      "         f1        f2        f3        f4        f5        f6        f7  \\\n",
      "0  1.076153  0.620775  0.407769  1.385197  0.300893  0.514473 -0.617612   \n",
      "1 -2.671350 -1.562934 -1.138147 -0.080313 -0.041001 -0.180056  0.448981   \n",
      "2 -1.312945 -0.609487 -0.864128  0.566632  0.592246  0.072353 -0.197144   \n",
      "3  1.375741  1.408673  1.609643  1.116756  1.338585  0.186409  0.710947   \n",
      "4 -0.193549 -0.863002  0.518264  0.372438 -0.862466 -0.836251  0.272078   \n",
      "\n",
      "         f8        f9       f10  Y  \n",
      "0 -0.253329  2.501031  0.852009  1  \n",
      "1  0.556238  0.655444  0.219245  0  \n",
      "2  0.264734 -0.534188  0.289655  1  \n",
      "3  0.283617  0.961569  0.107822  1  \n",
      "4  0.995409  1.038346  1.609608  0  \n"
     ]
    }
   ],
   "source": [
    "p = 0.5   # probability of class = 1\n",
    "n = 200   # number of observations\n",
    "d = 10    # number of features\n",
    "g = 0.5   # correlation between features\n",
    "\n",
    "dataset = generate_synth_dataset(p, n, d, g)\n",
    "print(dataset.head())"
   ]
  },
  {
   "cell_type": "code",
   "execution_count": 141,
   "metadata": {},
   "outputs": [],
   "source": [
    "from sklearn.model_selection import train_test_split\n",
    "\n",
    "feature_cols =['f1','f2','f3','f4','f5','f6','f7','f8', 'f9','f10']\n",
    "y = dataset.Y\n",
    "X = dataset[feature_cols]\n",
    "\n",
    "X_train, X_test, y_train, y_test = train_test_split(X, y, test_size=0.2, random_state=1)\n",
    "\n",
    "X_train, X_val, y_train, y_val = train_test_split(X_train, y_train, test_size=0.25, random_state=1) # 0.25 x 0.8 = 0.2\n"
   ]
  },
  {
   "cell_type": "code",
   "execution_count": 142,
   "metadata": {},
   "outputs": [
    {
     "name": "stdout",
     "output_type": "stream",
     "text": [
      "[ 1.87953147  1.68376044  0.11371619  0.23965426  0.03101174  2.03830738\n",
      " -0.43884787  0.84075436  0.12560052  1.13674559]\n",
      "[0. 0. 0. 0. 0. 0. 0. 0. 0. 0.]\n"
     ]
    },
    {
     "data": {
      "text/plain": [
       "np.float64(0.0)"
      ]
     },
     "execution_count": 142,
     "metadata": {},
     "output_type": "execute_result"
    }
   ],
   "source": [
    "β = np.zeros(X_train.shape[1])\n",
    "xi = X_train.iloc[0].values\n",
    "print(xi)\n",
    "print(β)\n",
    "np.dot(xi, β)\n"
   ]
  },
  {
   "cell_type": "code",
   "execution_count": 143,
   "metadata": {},
   "outputs": [
    {
     "data": {
      "text/plain": [
       "array([1, 1, 1, 0, 1, 1, 1, 1, 0, 0, 0, 1, 0, 0, 0, 1, 0, 0, 1, 0, 1, 0,\n",
       "       0, 0, 1, 1, 0, 1, 1, 1, 0, 0, 1, 1, 0, 1, 0, 1, 1, 1, 0, 1, 0, 1,\n",
       "       1, 1, 0, 1, 0, 0, 1, 1, 0, 1, 0, 0, 0, 1, 0, 0, 1, 0, 1, 1, 1, 0,\n",
       "       1, 1, 1, 1, 0, 1, 0, 0, 0, 0, 1, 1, 1, 0, 1, 1, 1, 1, 1, 1, 1, 1,\n",
       "       1, 1, 0, 1, 0, 1, 0, 1, 1, 0, 0, 1, 0, 1, 0, 1, 1, 0, 0, 1, 0, 1,\n",
       "       0, 1, 1, 0, 0, 1, 0, 1, 1, 0])"
      ]
     },
     "execution_count": 143,
     "metadata": {},
     "output_type": "execute_result"
    }
   ],
   "source": [
    "np.array(y_train)"
   ]
  },
  {
   "cell_type": "code",
   "execution_count": 144,
   "metadata": {},
   "outputs": [],
   "source": [
    "from sklearn.metrics import roc_auc_score, average_precision_score, recall_score, precision_score, f1_score, balanced_accuracy_score\n",
    "\n",
    "class LogRegCCD:\n",
    "    def __init__(self, lambdas):\n",
    "        self.lambdas = lambdas\n",
    "        self.coef_path_ = []\n",
    "        self.intercept_path_ = []\n",
    "        self.best_lambda_ = None\n",
    "        self.best_coef_ = None\n",
    "        self.best_intercept_ = None\n",
    "\n",
    "    def fit(self, X_train, y_train, alpha=1.0, tol=1e-8, max_iter=100):\n",
    "        \"\"\"Train logistic regression with CCD\"\"\"\n",
    "        X = np.array(X_train)\n",
    "        y = np.array(y_train)\n",
    "        N, d = X.shape\n",
    "\n",
    "        for l in self.lambdas:  # Iterate through each lambda\n",
    "            b = np.zeros(d)  # Initialize weights to zero\n",
    "            b_0 = 0  # Initialize bias (intercept)\n",
    "            \n",
    "            for iteration in range(max_iter):\n",
    "                b_old = b.copy()\n",
    "                b0_old = b_0\n",
    "                \n",
    "                # Compute probability predictions\n",
    "                linear_comb = b_0 + X @ b\n",
    "                p = 1 / (1 + np.exp(-linear_comb))  # Sigmoid function\n",
    "                \n",
    "                # Update each coordinate j independently\n",
    "                for j in range(d):\n",
    "                    X_j = X[:, j]  # Extract feature column\n",
    "                    numerator = np.sum(X_j * (y - p))  # ∑ x_ij (y_i - p_i)\n",
    "                    denominator = np.sum(X_j**2)  # ∑ x_ij^2\n",
    "                    \n",
    "                    denominator = max(denominator, 1e-10)  # Prevent division by zero\n",
    "                    \n",
    "                    # Compute weight update using soft-thresholding\n",
    "                    b[j] = self.soft_threshold(numerator / denominator, l * alpha)\n",
    "\n",
    "                # Update bias separately (since it’s not regularized)\n",
    "                b_0 = np.mean(y - p)  # b_0 = (1/n) ∑ (y_i - p_i)\n",
    "\n",
    "                # Check for convergence\n",
    "                if np.max(np.abs(b - b_old)) < tol and np.abs(b_0 - b0_old) < tol:\n",
    "                    break\n",
    "\n",
    "            # Store the solution path\n",
    "            self.coef_path_.append(b.copy())\n",
    "            self.intercept_path_.append(b_0)\n",
    "\n",
    "    def validate(self, X_valid, y_valid, measure='roc_auc'):\n",
    "        best_score = -np.inf\n",
    "        best_lambda = None\n",
    "        best_index = None\n",
    "\n",
    "        for i, l in enumerate(self.lambdas):\n",
    "          b = self.coef_path_[i]\n",
    "          b_0 = self.intercept_path_[i]\n",
    "          probas = 1 / (1 + np.exp(-(b_0 + X_valid @ b)))\n",
    "          if measure in ['recall', 'precision', 'f_measure', 'balanced_accuracy']:\n",
    "            predictions = (probas >= 0.5).astype(int)\n",
    "            score = self.compute_measure(y_valid, predictions, measure)\n",
    "          elif measure == 'roc_auc':\n",
    "            score = roc_auc_score(y_valid, probas)\n",
    "          elif measure == 'sensitivity_precision_auc':\n",
    "              score = average_precision_score(y_valid, probas)\n",
    "\n",
    "          if score > best_score:\n",
    "              best_score = score\n",
    "              best_lambda = l\n",
    "              best_index = i\n",
    "        self.best_lambda_ = best_lambda\n",
    "        self.best_coef_ = self.coef_path_[best_index]\n",
    "        self.best_intercept_ = self.intercept_path_[best_index]\n",
    "\n",
    "    def predict_proba(self, X_test):\n",
    "        return 1 / (1 + np.exp(-(self.best_intercept_ + X_test @ self.best_coef_)))\n",
    "\n",
    "    def plot(self, X_valid, y_valid, measure='roc_auc'):\n",
    "        \"\"\"Plot performance measure vs lambda\"\"\"\n",
    "        scores = []\n",
    "\n",
    "        for i, l in enumerate(self.lambdas):\n",
    "            b = self.coef_path_[i]\n",
    "            b_0 = self.intercept_path_[i]\n",
    "            probas = 1 / (1 + np.exp(-(b_0 + X_valid @ b)))\n",
    "\n",
    "            if measure in ['recall', 'precision', 'f_measure', 'balanced_accuracy']:\n",
    "                predictions = (probas >= 0.5).astype(int)\n",
    "                score = self.compute_measure(y_valid, predictions, measure)\n",
    "            elif measure == 'roc_auc':\n",
    "                score = roc_auc_score(y_valid, probas)\n",
    "            elif measure == 'sensitivity_precision_auc':\n",
    "                score = average_precision_score(y_valid, probas)\n",
    "\n",
    "            scores.append(score)\n",
    "\n",
    "        plt.figure(figsize=(8, 5))\n",
    "        plt.plot(self.lambdas, scores, marker='o', linestyle='-')\n",
    "        plt.xscale(\"log\")\n",
    "        plt.xlabel(\"Lambda\")\n",
    "        plt.ylabel(measure)\n",
    "        plt.title(f\"Performance Measure ({measure}) vs Lambda\")\n",
    "        plt.grid(True)\n",
    "        plt.show()\n",
    "\n",
    "    def plot_coefficients(self):\n",
    "        \"\"\"Plot coefficient paths vs lambda\"\"\"\n",
    "        coef_paths = np.array(self.coef_path_).T\n",
    "\n",
    "        plt.figure(figsize=(10, 6))\n",
    "        for coef in coef_paths:\n",
    "            plt.plot(self.lambdas, coef, linestyle='-', marker='.')\n",
    "        plt.xscale(\"log\")\n",
    "        plt.xlabel(\"Lambda\")\n",
    "        plt.ylabel(\"Coefficient Value\")\n",
    "        plt.title(\"Coefficient Paths vs Lambda\")\n",
    "        plt.grid(True)\n",
    "        plt.show()    \n",
    "\n",
    "    def soft_threshold(self, z, gamma):\n",
    "        if z > gamma:\n",
    "            return z - gamma\n",
    "        elif z < -gamma:\n",
    "            return z + gamma\n",
    "        else:\n",
    "            return 0\n",
    "\n",
    "    def compute_measure(self, y_true, y_pred, measure):\n",
    "      if measure == \"recall\":\n",
    "          return recall_score(y_true, y_pred)\n",
    "      elif measure == \"precision\":\n",
    "          return precision_score(y_true, y_pred)\n",
    "      elif measure == \"f_measure\":\n",
    "          return f1_score(y_true, y_pred)\n",
    "      elif measure == \"balanced_accuracy\":\n",
    "          return balanced_accuracy_score(y_true, y_pred)\n",
    "      else:\n",
    "          raise ValueError(f\"Unknown measure: {measure}\")"
   ]
  },
  {
   "cell_type": "code",
   "execution_count": 145,
   "metadata": {},
   "outputs": [
    {
     "ename": "TypeError",
     "evalue": "'float' object is not callable",
     "output_type": "error",
     "traceback": [
      "\u001B[0;31m---------------------------------------------------------------------------\u001B[0m",
      "\u001B[0;31mTypeError\u001B[0m                                 Traceback (most recent call last)",
      "Cell \u001B[0;32mIn[145], line 3\u001B[0m\n\u001B[1;32m      1\u001B[0m lambdas \u001B[38;5;241m=\u001B[39m np\u001B[38;5;241m.\u001B[39mlinspace(\u001B[38;5;241m0.1\u001B[39m, \u001B[38;5;241m0.003\u001B[39m, \u001B[38;5;241m50\u001B[39m)  \u001B[38;5;66;03m# explicitly 100 lambda values from 0.001 to 0.000001\u001B[39;00m\n\u001B[1;32m      2\u001B[0m model \u001B[38;5;241m=\u001B[39m LogRegCCD(lambdas\u001B[38;5;241m=\u001B[39mlambdas)\n\u001B[0;32m----> 3\u001B[0m \u001B[43mmodel\u001B[49m\u001B[38;5;241;43m.\u001B[39;49m\u001B[43mfit\u001B[49m\u001B[43m(\u001B[49m\u001B[43mX_train\u001B[49m\u001B[43m,\u001B[49m\u001B[43m \u001B[49m\u001B[43my_train\u001B[49m\u001B[43m)\u001B[49m\n\u001B[1;32m      4\u001B[0m model\u001B[38;5;241m.\u001B[39mvalidate(X_val, y_val)\n\u001B[1;32m      5\u001B[0m \u001B[38;5;66;03m# print(model.intercept_path_)\u001B[39;00m\n\u001B[1;32m      6\u001B[0m \u001B[38;5;66;03m# Validate and select best lambda\u001B[39;00m\n",
      "Cell \u001B[0;32mIn[144], line 34\u001B[0m, in \u001B[0;36mLogRegCCD.fit\u001B[0;34m(self, X_train, y_train, alpha, tol, max_iter)\u001B[0m\n\u001B[1;32m     32\u001B[0m X_j \u001B[38;5;241m=\u001B[39m X[:, j]  \u001B[38;5;66;03m# Extract feature column\u001B[39;00m\n\u001B[1;32m     33\u001B[0m numerator \u001B[38;5;241m=\u001B[39m np\u001B[38;5;241m.\u001B[39msum(X_j \u001B[38;5;241m*\u001B[39m (y \u001B[38;5;241m-\u001B[39m p))  \u001B[38;5;66;03m# ∑ x_ij (y_i - p_i)\u001B[39;00m\n\u001B[0;32m---> 34\u001B[0m denominator \u001B[38;5;241m=\u001B[39m \u001B[38;5;241m1\u001B[39m \u001B[38;5;241m+\u001B[39m \u001B[43malpha\u001B[49m\u001B[43m(\u001B[49m\u001B[38;5;241;43m1\u001B[39;49m\u001B[38;5;241;43m-\u001B[39;49m\u001B[43malpha\u001B[49m\u001B[43m)\u001B[49m  \u001B[38;5;66;03m# ∑ x_ij^2\u001B[39;00m\n\u001B[1;32m     36\u001B[0m denominator \u001B[38;5;241m=\u001B[39m \u001B[38;5;28mmax\u001B[39m(denominator, \u001B[38;5;241m1e-10\u001B[39m)  \u001B[38;5;66;03m# Prevent division by zero\u001B[39;00m\n\u001B[1;32m     38\u001B[0m \u001B[38;5;66;03m# Compute weight update using soft-thresholding\u001B[39;00m\n",
      "\u001B[0;31mTypeError\u001B[0m: 'float' object is not callable"
     ]
    }
   ],
   "source": [
    "lambdas = np.linspace(0.1, 0.003, 50)  # explicitly 100 lambda values from 0.001 to 0.000001\n",
    "model = LogRegCCD(lambdas=lambdas)\n",
    "model.fit(X_train, y_train)\n",
    "model.validate(X_val, y_val)\n",
    "# print(model.intercept_path_)\n",
    "# Validate and select best lambda\n",
    "model.plot(X_val, y_val, measure=\"precision\")\n",
    "model.plot_coefficients()"
   ]
  }
 ],
 "metadata": {
  "kernelspec": {
   "display_name": "Python 3 (ipykernel)",
   "language": "python",
   "name": "python3"
  },
  "language_info": {
   "codemirror_mode": {
    "name": "ipython",
    "version": 3
   },
   "file_extension": ".py",
   "mimetype": "text/x-python",
   "name": "python",
   "nbconvert_exporter": "python",
   "pygments_lexer": "ipython3",
   "version": "3.12.7"
  }
 },
 "nbformat": 4,
 "nbformat_minor": 4
}
