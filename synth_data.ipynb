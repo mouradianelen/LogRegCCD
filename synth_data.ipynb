{
 "cells": [
  {
   "cell_type": "code",
   "execution_count": 5,
   "metadata": {},
   "outputs": [],
   "source": [
    "import numpy as np\n",
    "import pandas as pd\n",
    "from scipy.stats import multivariate_normal\n",
    "\n",
    "def generate_synth_dataset(p: float, n: int, d: int, g: float)->pd.DataFrame:\n",
    "    \"\"\"Generating a synthetic dataset\n",
    "    Args:\n",
    "        p (float): class prior probability\n",
    "        n (int): number of observations\n",
    "        d (int): number of features (dimensions)\n",
    "        g (float): correlation between features\n",
    "    Returns:\n",
    "        Datadrame: dataset with d features, n rows\n",
    "    \"\"\"\n",
    "    Y = np.random.binomial(1, p, size=n)\n",
    "    S = np.array([[g ** abs(i - j) for j in range(d)] for i in range(d)])\n",
    "    \n",
    "    mean_0 = np.zeros(d)\n",
    "    mean_1 = np.array([1/(i+1) for i in range(d)])\n",
    "    \n",
    "    X = np.array([\n",
    "        multivariate_normal.rvs(mean=mean_1 if y == 1 else mean_0, cov=S)\n",
    "        for y in Y\n",
    "    ])\n",
    "    \n",
    "    feature_names = [f'f{i+1}' for i in range(d)]\n",
    "    dataset = pd.DataFrame(X, columns=feature_names)\n",
    "    dataset['Y'] = Y\n",
    "    \n",
    "    return dataset"
   ]
  },
  {
   "cell_type": "code",
   "execution_count": null,
   "metadata": {},
   "outputs": [],
   "source": [
    "from sklearn.linear_model import LogisticRegression\n",
    "\n",
    "ban = LogisticRegression()"
   ]
  },
  {
   "cell_type": "code",
   "execution_count": 8,
   "metadata": {},
   "outputs": [
    {
     "name": "stdout",
     "output_type": "stream",
     "text": [
      "         f1        f2        f3        f4        f5        f6        f7  \\\n",
      "0  0.808324  1.115406  0.353526  0.992571 -0.829391  2.038127  1.337364   \n",
      "1  0.950230  1.927966  1.007024 -0.300203  0.686399  0.630842  1.352010   \n",
      "2  0.966167 -0.555917  0.638940  0.417741  1.067720 -0.148997  0.808546   \n",
      "3  3.121562  0.753335  2.102468  0.679483  0.384577  0.284980  1.029542   \n",
      "4 -0.013053  0.459288  0.100058 -0.947503 -0.534097 -1.384567 -1.924794   \n",
      "\n",
      "         f8        f9       f10  Y  \n",
      "0  0.225057  0.186019 -0.609141  1  \n",
      "1 -0.933978 -0.617282  0.816854  0  \n",
      "2 -0.906178  0.170930  0.702563  1  \n",
      "3  1.661278  1.463126  0.478464  1  \n",
      "4 -1.913593 -0.286615 -1.641509  1  \n"
     ]
    }
   ],
   "source": [
    "p = 0.5   # probability of class = 1\n",
    "n = 200   # number of observations\n",
    "d = 10    # number of features\n",
    "g = 0.5   # correlation between features\n",
    "\n",
    "dataset = generate_synth_dataset(p, n, d, g)\n",
    "print(dataset.head())"
   ]
  },
  {
   "cell_type": "code",
   "execution_count": 10,
   "metadata": {},
   "outputs": [],
   "source": [
    "from sklearn.model_selection import train_test_split\n",
    "\n",
    "feature_cols =['f1','f2','f3','f4','f5','f6','f7','f8', 'f9','f10']\n",
    "y = dataset.Y\n",
    "X = dataset[feature_cols]\n",
    "\n",
    "X_train, X_test, y_train, y_test = train_test_split(X, y, test_size=0.2, random_state=1)\n",
    "\n",
    "X_train, X_val, y_train, y_val = train_test_split(X_train, y_train, test_size=0.25, random_state=1) # 0.25 x 0.8 = 0.2\n"
   ]
  },
  {
   "cell_type": "code",
   "execution_count": 33,
   "metadata": {},
   "outputs": [
    {
     "name": "stdout",
     "output_type": "stream",
     "text": [
      "[ 2.37092453  1.73095473  1.38565474  0.97960477  0.73031586 -0.52614245\n",
      "  1.0550614   1.25398968 -0.94387923  0.92960952]\n",
      "[0. 0. 0. 0. 0. 0. 0. 0. 0. 0.]\n"
     ]
    },
    {
     "data": {
      "text/plain": [
       "0.0"
      ]
     },
     "execution_count": 33,
     "metadata": {},
     "output_type": "execute_result"
    }
   ],
   "source": [
    "β = np.zeros(X_train.shape[1])\n",
    "xi = X_train.iloc[0].values\n",
    "print(xi)\n",
    "print(β)\n",
    "np.dot(xi, β)\n"
   ]
  },
  {
   "cell_type": "code",
   "execution_count": 46,
   "metadata": {},
   "outputs": [
    {
     "data": {
      "text/plain": [
       "array([1, 0, 0, 0, 0, 1, 1, 1, 1, 1, 1, 0, 0, 0, 0, 1, 0, 0, 1, 1, 0, 1,\n",
       "       1, 1, 0, 1, 1, 1, 1, 1, 1, 0, 0, 0, 0, 0, 0, 1, 0, 1, 0, 0, 1, 1,\n",
       "       1, 1, 0, 0, 1, 0, 0, 1, 1, 1, 1, 1, 0, 0, 0, 1, 1, 0, 1, 0, 1, 0,\n",
       "       1, 1, 1, 1, 1, 0, 0, 1, 1, 1, 1, 1, 1, 1, 0, 0, 0, 1, 0, 0, 0, 0,\n",
       "       0, 1, 1, 0, 0, 1, 1, 1, 0, 1, 0, 1, 1, 1, 0, 0, 0, 0, 0, 0, 0, 0,\n",
       "       0, 0, 1, 1, 1, 0, 1, 1, 0, 0])"
      ]
     },
     "execution_count": 46,
     "metadata": {},
     "output_type": "execute_result"
    }
   ],
   "source": [
    "np.array(y_train)"
   ]
  },
  {
   "cell_type": "code",
   "execution_count": 63,
   "metadata": {},
   "outputs": [],
   "source": [
    "from sklearn.metrics import roc_auc_score, average_precision_score, recall_score, precision_score, f1_score, balanced_accuracy_score\n",
    "\n",
    "class LogRegCCD:\n",
    "    def __init__(self, lambdas):\n",
    "        self.lambdas = lambdas\n",
    "        self.coef_path_ = []\n",
    "        self.intercept_path_ = []\n",
    "        self.best_lambda_ = None\n",
    "        self.best_coef_ = None\n",
    "        self.best_intercept_ = None\n",
    "\n",
    "    def fit(self, X_train, y_train, alpha=1.0, tol=1e-8, max_iter=100):\n",
    "        X = np.array(X_train)\n",
    "        y = np.array(y_train)\n",
    "        N, d = X.shape\n",
    "\n",
    "        for l in self.lambdas:\n",
    "            b = np.zeros(X_train.shape[1])\n",
    "            b_0 = 0\n",
    "            residual = y - 0.5\n",
    "            for i in range(max_iter):\n",
    "                b_old = b.copy()\n",
    "                b0_old = b_0\n",
    "\n",
    "                linear_comb = b_0 + X @ b\n",
    "                p = 1 / (1 + np.exp(-linear_comb))\n",
    "                # w = p * (1 - p)\n",
    "                w = np.maximum(p * (1 - p), 1e-10)\n",
    "                z = linear_comb + (y - p) / w\n",
    "                lq = -0.5 * np.sum(w * (z - X @ b) ** 2)  # Compute current quadratic function\n",
    "\n",
    "                b_0 = np.sum(w * (z - X @ b)) / np.sum(w) #new\n",
    "                for j in range(X_train.shape[1]):\n",
    "                    X_j = X[:, j]\n",
    "                    r_j = residual + b[j] * X_j\n",
    "\n",
    "                    numerator = np.sum(w * X_j * r_j)\n",
    "                    denominator = np.sum(w * X_j**2) + l * (1 - alpha)\n",
    "                    denominator = max(denominator, 1e-10)\n",
    "\n",
    "                    new_bj = self.soft_threshold(numerator, l * alpha) / denominator\n",
    "\n",
    "                    if np.abs(new_bj - b[j]) > tol:\n",
    "                      residual -= (new_bj - b[j]) * X_j  # Update\n",
    "                    # print(b)\n",
    "                    # print(b[j])\n",
    "                    b[j] = new_bj\n",
    "                    # print(f\"Iteration {i}, Feature {j}, Numerator: {numerator:.5f}, Denominator: {denominator:.5f}\")\n",
    "                    # print(f\"new bj {new_bj}\")\n",
    "                # print(b_0)\n",
    "                if np.max(np.abs(b - b_old)) < tol and np.abs(b_0 - b0_old) < tol:\n",
    "                    break\n",
    "            # print(l)\n",
    "            self.coef_path_.append(b.copy())\n",
    "            self.intercept_path_.append(b_0)\n",
    "\n",
    "    def validate(self, X_valid, y_valid, measure='roc_auc'):\n",
    "        best_score = -np.inf\n",
    "        best_lambda = None\n",
    "        best_index = None\n",
    "\n",
    "        for i, l in enumerate(self.lambdas):\n",
    "          b = self.coef_path_[i]\n",
    "          b_0 = self.intercept_path_[i]\n",
    "          probas = 1 / (1 + np.exp(-(b_0 + X_valid @ b)))\n",
    "          if measure in ['recall', 'precision', 'f_measure', 'balanced_accuracy']:\n",
    "            predictions = (probas >= 0.5).astype(int)\n",
    "            score = self.compute_measure(y_valid, predictions, measure)\n",
    "          elif measure == 'roc_auc':\n",
    "            score = roc_auc_score(y_valid, probas)\n",
    "          elif measure == 'sensitivity_precision_auc':\n",
    "              score = average_precision_score(y_valid, probas)\n",
    "\n",
    "          if score > best_score:\n",
    "              best_score = score\n",
    "              best_lambda = l\n",
    "              best_index = i\n",
    "        self.best_lambda_ = best_lambda\n",
    "        self.best_coef_ = self.coef_path_[best_index]\n",
    "        self.best_intercept_ = self.intercept_path_[best_index]\n",
    "\n",
    "    def predict_proba(self, X_test):\n",
    "        # Predict probabilities using best_lambda_ coefficients\n",
    "        pass\n",
    "\n",
    "    def plot(self, X_valid, y_valid, measure='roc_auc'):\n",
    "        # Plot performance measure vs lambda\n",
    "        pass\n",
    "\n",
    "    def plot_coefficients(self):\n",
    "        # Plot coefficient paths vs lambda\n",
    "        pass\n",
    "\n",
    "    def soft_threshold(self, z, gamma):\n",
    "        if z > gamma:\n",
    "            return z - gamma\n",
    "        elif z < -gamma:\n",
    "            return z + gamma\n",
    "        else:\n",
    "            return 0\n",
    "\n",
    "    def compute_measure(self, y_true, y_pred, measure):\n",
    "      if measure == \"recall\":\n",
    "          return recall_score(y_true, y_pred)\n",
    "      elif measure == \"precision\":\n",
    "          return precision_score(y_true, y_pred)\n",
    "      elif measure == \"f_measure\":\n",
    "          return f1_score(y_true, y_pred)\n",
    "      elif measure == \"balanced_accuracy\":\n",
    "          return balanced_accuracy_score(y_true, y_pred)\n",
    "      else:\n",
    "          raise ValueError(f\"Unknown measure: {measure}\")"
   ]
  },
  {
   "cell_type": "code",
   "execution_count": 67,
   "metadata": {},
   "outputs": [
    {
     "name": "stdout",
     "output_type": "stream",
     "text": [
      "[ 0.18422399  0.00347195  0.00170952  0.01924258  0.01199868  0.01228861\n",
      "  0.09064358 -0.02433651 -0.06089889 -0.06490071]\n"
     ]
    }
   ],
   "source": [
    "lambdas = np.linspace(0.001, 0.000001, 100)  # explicitly 100 lambda values from 0.001 to 0.000001\n",
    "model = LogRegCCD(lambdas=lambdas)\n",
    "model.fit(X_train, y_train)\n",
    "model.validate(X_val, y_val)\n",
    "# print(model.intercept_path_)\n",
    "print(model.best_coef_)\n"
   ]
  }
 ],
 "metadata": {
  "kernelspec": {
   "display_name": "Python 3",
   "language": "python",
   "name": "python3"
  },
  "language_info": {
   "codemirror_mode": {
    "name": "ipython",
    "version": 3
   },
   "file_extension": ".py",
   "mimetype": "text/x-python",
   "name": "python",
   "nbconvert_exporter": "python",
   "pygments_lexer": "ipython3",
   "version": "3.11.9"
  }
 },
 "nbformat": 4,
 "nbformat_minor": 2
}
