{
 "cells": [
  {
   "cell_type": "code",
   "execution_count": 6,
   "metadata": {},
   "outputs": [],
   "source": [
    "import numpy as np\n",
    "import pandas as pd\n",
    "import matplotlib as plt\n",
    "from model import LogRegCCD\n",
    "from sklearn.linear_model import LogisticRegression\n",
    "from sklearn.metrics import roc_curve, recall_score, f1_score, roc_auc_score, balanced_accuracy_score,precision_score"
   ]
  },
  {
   "cell_type": "code",
   "execution_count": 4,
   "metadata": {},
   "outputs": [],
   "source": [
    "arcene_train = pd.read_csv('ARCENE/arcene_train.data', header=None, sep='\\s+')\n",
    "arcene_train_y = pd.read_csv('ARCENE/arcene_train.labels', header=None)\n",
    "arcene_train_y = arcene_train_y.squeeze()\n",
    "arcene_valid = pd.read_csv('ARCENE/arcene_valid.data', header=None, sep='\\s+')\n",
    "arcene_valid_y = pd.read_csv('ARCENE/arcene_valid.labels', header=None)\n",
    "arcene_valid_y = arcene_valid_y.squeeze()\n",
    "mapping = {1: 0, -1: 1}\n",
    "arcene_train_y = arcene_train_y.map(mapping).to_numpy()\n",
    "arcene_valid_y = arcene_valid_y.map(mapping).to_numpy()\n"
   ]
  },
  {
   "cell_type": "code",
   "execution_count": null,
   "metadata": {},
   "outputs": [],
   "source": [
    "arcene_train = arcene_train.sample(n=450, axis=1, random_state=42)\n",
    "arcene_valid = arcene_valid.sample(n=450, axis=1, random_state=42)\n",
    "#reducing number of features "
   ]
  },
  {
   "cell_type": "code",
   "execution_count": null,
   "metadata": {},
   "outputs": [],
   "source": [
    "lambdas = np.linspace(10, 0.01, 10) # 10 lambdas from 10 to 0.01\n",
    "model = LogRegCCD(lambdas)\n",
    "model.fit(arcene_train, arcene_train_y)\n",
    "model.validate(arcene_valid, arcene_valid_y)"
   ]
  },
  {
   "cell_type": "code",
   "execution_count": null,
   "metadata": {},
   "outputs": [],
   "source": [
    "print(model.best_lambda_)\n",
    "model.plot(arcene_valid, arcene_valid_y, measure=\"precision\")\n",
    "model.plot_coefficients()"
   ]
  },
  {
   "cell_type": "code",
   "execution_count": null,
   "metadata": {},
   "outputs": [],
   "source": [
    "model.plot(arcene_valid, arcene_valid_y, measure=\"roc_auc\")\n",
    "model.plot_coefficients()"
   ]
  },
  {
   "cell_type": "code",
   "execution_count": null,
   "metadata": {},
   "outputs": [],
   "source": [
    "model.validate(arcene_valid, arcene_valid_y, measure=\"balanced_accuracy\")\n",
    "model.plot(arcene_valid, arcene_valid_y, measure=\"balanced_accuracy\")\n",
    "model.plot_coefficients()"
   ]
  },
  {
   "cell_type": "code",
   "execution_count": null,
   "metadata": {},
   "outputs": [],
   "source": [
    "model.validate(arcene_valid, arcene_valid_y, measure=\"recall\")\n",
    "model.plot(arcene_valid, arcene_valid_y, measure=\"recall\")\n",
    "model.plot_coefficients()"
   ]
  },
  {
   "cell_type": "code",
   "execution_count": null,
   "metadata": {},
   "outputs": [],
   "source": [
    "model.validate(arcene_valid, arcene_valid_y, measure=\"f_measure\")\n",
    "model.plot(arcene_valid, arcene_valid_y, measure=\"f_measure\")\n",
    "model.plot_coefficients()"
   ]
  },
  {
   "cell_type": "code",
   "execution_count": null,
   "metadata": {},
   "outputs": [],
   "source": [
    "modelLR = LogisticRegression(penalty=None)\n",
    "modelLR.fit(arcene_train, arcene_train_y)\n"
   ]
  },
  {
   "cell_type": "code",
   "execution_count": null,
   "metadata": {},
   "outputs": [],
   "source": [
    "print(modelLR.coef_)\n",
    "print(model.best_coef_)"
   ]
  },
  {
   "cell_type": "code",
   "execution_count": null,
   "metadata": {},
   "outputs": [],
   "source": [
    "y_pred = modelLR.predict(arcene_valid)\n",
    "y_prob = modelLR.predict_proba(arcene_valid)[:, 1] \n",
    "\n",
    "balanced_acc = balanced_accuracy_score(arcene_valid_y, y_pred)\n",
    "recall = recall_score(arcene_valid_y, y_pred, average='binary')\n",
    "f1 = f1_score(arcene_valid_y, y_pred, average='binary')\n",
    "roc_auc = roc_auc_score(arcene_valid_y, y_prob)\n",
    "precision = precision_score(arcene_valid_y, y_pred, average='binary')\n",
    "\n",
    "metrics = ['Balanced Accuracy', 'Recall', 'F1-Score', 'Roc-Auc', 'Precision']\n",
    "values = [balanced_acc, recall, f1, roc_auc, precision]\n",
    "\n",
    "plt.figure(figsize=(8, 6))\n",
    "plt.bar(metrics, values, color=['skyblue', 'lightgreen', 'salmon', 'pink', 'purple'])\n",
    "plt.xlabel('Metrics')\n",
    "plt.ylabel('Score')\n",
    "plt.title('Model Performance Metrics')\n",
    "plt.ylim([0, 1])  \n",
    "plt.yticks(np.linspace(0, 1, 22))  \n",
    "\n",
    "plt.show()\n",
    "\n"
   ]
  }
 ],
 "metadata": {
  "kernelspec": {
   "display_name": "Python 3",
   "language": "python",
   "name": "python3"
  },
  "language_info": {
   "codemirror_mode": {
    "name": "ipython",
    "version": 3
   },
   "file_extension": ".py",
   "mimetype": "text/x-python",
   "name": "python",
   "nbconvert_exporter": "python",
   "pygments_lexer": "ipython3",
   "version": "3.11.9"
  }
 },
 "nbformat": 4,
 "nbformat_minor": 2
}
